{
  "nbformat": 4,
  "nbformat_minor": 0,
  "metadata": {
    "colab": {
      "provenance": [],
      "authorship_tag": "ABX9TyMuRJ3qvdWpZntxA2GAB9WF",
      "include_colab_link": true
    },
    "kernelspec": {
      "name": "python3",
      "display_name": "Python 3"
    },
    "language_info": {
      "name": "python"
    }
  },
  "cells": [
    {
      "cell_type": "markdown",
      "metadata": {
        "id": "view-in-github",
        "colab_type": "text"
      },
      "source": [
        "<a href=\"https://colab.research.google.com/github/ajinkya034/ajinkya/blob/main/Untitled0.ipynb\" target=\"_parent\"><img src=\"https://colab.research.google.com/assets/colab-badge.svg\" alt=\"Open In Colab\"/></a>"
      ]
    },
    {
      "cell_type": "code",
      "execution_count": 1,
      "metadata": {
        "id": "MJbeETniE8Pp"
      },
      "outputs": [],
      "source": [
        "import pandas as pd\n",
        "import pandas as np"
      ]
    },
    {
      "cell_type": "code",
      "source": [
        "print('hi')\n",
        "a=23\n",
        "b=456\n",
        "c=346\n",
        "d=456\n",
        "print(a+b+c+d)"
      ],
      "metadata": {
        "id": "OVKsGtPLFCnv",
        "colab": {
          "base_uri": "https://localhost:8080/"
        },
        "outputId": "007ef9bd-af23-4d0c-c300-0e5be8fd4e66"
      },
      "execution_count": 6,
      "outputs": [
        {
          "output_type": "stream",
          "name": "stdout",
          "text": [
            "hi\n",
            "1281\n"
          ]
        }
      ]
    },
    {
      "cell_type": "code",
      "source": [],
      "metadata": {
        "id": "I-sNfuBHcdEP"
      },
      "execution_count": null,
      "outputs": []
    },
    {
      "cell_type": "code",
      "source": [],
      "metadata": {
        "id": "9zbDYIqgcdm5"
      },
      "execution_count": null,
      "outputs": []
    }
  ]
}